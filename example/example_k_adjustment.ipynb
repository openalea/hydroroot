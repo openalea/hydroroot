{
 "cells": [
  {
   "cell_type": "markdown",
   "id": "9eb831f3-66b4-4601-9e84-fe801e7aa9fc",
   "metadata": {},
   "source": [
    "# Example of radial conductivity adjustment\n",
    "Here a simple example using the parameter class and showing a simple adjustment (fitting process) on the water outgoing flux given in the parameters file parameters.yml."
   ]
  },
  {
   "cell_type": "code",
   "execution_count": 11,
   "id": "ecb2c79c-7662-431b-96ea-270d7bafe310",
   "metadata": {},
   "outputs": [
    {
     "name": "stdout",
     "output_type": "stream",
     "text": [
      "Python 3.9.19 | packaged by conda-forge | (main, Mar 20 2024, 12:50:21) \n",
      "[GCC 12.3.0] on linux\n"
     ]
    }
   ],
   "source": [
    "import sys; print('Python %s on %s' % (sys.version, sys.platform))\n",
    "sys.path.extend(['../src', '../example'])"
   ]
  },
  {
   "cell_type": "code",
   "execution_count": 12,
   "id": "b6cc47ef-4c99-4005-b041-b44dcb72312d",
   "metadata": {},
   "outputs": [],
   "source": [
    "import pandas as pd\n",
    "from hydroroot import radius\n",
    "from hydroroot.main import hydroroot_flow, root_builder\n",
    "from hydroroot.init_parameter import Parameters\n",
    "from hydroroot.generator.measured_root import mtg_from_aqua_data\n",
    "from hydroroot.read_file import read_archi_data\n",
    "from hydroroot.display import plot"
   ]
  },
  {
   "cell_type": "markdown",
   "id": "66ffba03-1927-4dcc-bd3e-7ae487f17a4a",
   "metadata": {},
   "source": [
    "## reading the input parameters file"
   ]
  },
  {
   "cell_type": "code",
   "execution_count": 13,
   "id": "e8f87e3b-3e41-476a-9aa2-c2ad676606cf",
   "metadata": {},
   "outputs": [],
   "source": [
    "parameter = Parameters()\n",
    "parameter.read_file('parameters.yml')"
   ]
  },
  {
   "cell_type": "markdown",
   "id": "9432b4c5-ee31-4a74-912c-a1660304437e",
   "metadata": {},
   "source": [
    "## reading the architecture file and building the MTG"
   ]
  },
  {
   "cell_type": "code",
   "execution_count": 14,
   "id": "62a1f2a1-0aa6-492c-8b6f-5c20a7ab3f28",
   "metadata": {},
   "outputs": [],
   "source": [
    "fname = parameter.archi['input_dir'] + parameter.archi['input_file'][0]\n",
    "df = read_archi_data(fname) # replace 3 lines in example_parameter_class.ipynb"
   ]
  },
  {
   "cell_type": "markdown",
   "id": "88141760-871c-45b7-ad30-d26b30f03d89",
   "metadata": {},
   "source": [
    "### building the MTG from the dataframe df\n",
    "the output is the mtg, the primary root length, the total length and surface of the root, and the seed for the case of generated root here unsed\n"
   ]
  },
  {
   "cell_type": "code",
   "execution_count": 15,
   "id": "b63cd987-1689-4fff-9c28-559176546f1b",
   "metadata": {},
   "outputs": [],
   "source": [
    "g, primary_length, total_length, surface, seed = root_builder(df = df, segment_length = parameter.archi['segment_length'],\n",
    "            order_decrease_factor = parameter.archi['order_decrease_factor'], ref_radius = parameter.archi['ref_radius'])"
   ]
  },
  {
   "cell_type": "markdown",
   "id": "0a6abb4e-891d-43c6-8349-5f06ca374c0a",
   "metadata": {},
   "source": [
    "## Performing the adjustment\n",
    "- 1st run with conductivities given in parameters.yml\n",
    "- 2d the adjustment of k0 to fit parameter.exp['Jv'], done with a very simple Newton-Raphson loop."
   ]
  },
  {
   "cell_type": "code",
   "execution_count": 16,
   "id": "36a30d5b-0a1e-4895-82da-7387a0462d7c",
   "metadata": {},
   "outputs": [],
   "source": [
    "axial_data = parameter.hydro['axial_conductance_data']\n",
    "k0 = parameter.hydro['k0']\n",
    "radial_data = ([0.0,0.2], [k0,k0])\n",
    "g, Keq, Jv = hydroroot_flow(g, segment_length = parameter.archi['segment_length'], psi_e = parameter.exp['psi_e'], \n",
    "                            psi_base = parameter.exp['psi_base'], axial_conductivity_data = axial_data, \n",
    "                            radial_conductivity_data = radial_data)"
   ]
  },
  {
   "cell_type": "code",
   "execution_count": 17,
   "id": "801eb8ae-babe-4a44-9891-029f704e61a2",
   "metadata": {},
   "outputs": [],
   "source": [
    "k0_old = k0\n",
    "F_old = (Jv - parameter.exp['Jv'])**2.0 # the objective function\n",
    "k0 *= 0.9 # to initiate a simulation in the loop to compare with the previous one\n",
    "eps = 1e-9 # the accuracy wanted\n",
    "F = 1. # to launch the loop\n",
    "# Newton-Raphson loop to get k0\n",
    "while (F > eps):\n",
    "    radial_data = ([0.0,0.2], [k0,k0])\n",
    "    g, Keq, Jv = hydroroot_flow(g, segment_length = parameter.archi['segment_length'], psi_e = parameter.exp['psi_e'], \n",
    "                                psi_base = parameter.exp['psi_base'], axial_conductivity_data = axial_data, \n",
    "                                radial_conductivity_data = radial_data)\n",
    "\n",
    "    F = (Jv - parameter.exp['Jv']) ** 2.0 # the objective function\n",
    "\n",
    "    if abs(F) > eps:\n",
    "        dfdk0 = (F - F_old) / (k0 - k0_old) # the derivative of F according to k0\n",
    "\n",
    "        k0_old = k0\n",
    "\n",
    "        k0 = k0_old - F / dfdk0 # new estimate\n",
    "        while k0 < 1.0e-3:\n",
    "            k0 = 0.5 * k0_old\n",
    "\n",
    "        F_old = F"
   ]
  },
  {
   "cell_type": "markdown",
   "id": "d8cc1b78-16b7-4e55-97b3-17f1313666af",
   "metadata": {},
   "source": [
    "## Results"
   ]
  },
  {
   "cell_type": "code",
   "execution_count": 18,
   "id": "8cb74613-2f9c-418a-af07-8247f6d5b4a6",
   "metadata": {},
   "outputs": [
    {
     "name": "stdout",
     "output_type": "stream",
     "text": [
      "experimental Jv:  0.00723 simulated Jv:  0.007209007792547907 adjusted k:  65.84564377099238\n"
     ]
    }
   ],
   "source": [
    "print('experimental Jv: ', parameter.exp['Jv'], 'simulated Jv: ', Jv, 'adjusted k: ', k0)"
   ]
  },
  {
   "cell_type": "code",
   "execution_count": null,
   "id": "d4435c66-cfbb-45ab-8fc2-ed23d4d52bce",
   "metadata": {},
   "outputs": [],
   "source": []
  }
 ],
 "metadata": {
  "kernelspec": {
   "display_name": "Python 3 (ipykernel)",
   "language": "python",
   "name": "python3"
  },
  "language_info": {
   "codemirror_mode": {
    "name": "ipython",
    "version": 3
   },
   "file_extension": ".py",
   "mimetype": "text/x-python",
   "name": "python",
   "nbconvert_exporter": "python",
   "pygments_lexer": "ipython3",
   "version": "3.9.19"
  }
 },
 "nbformat": 4,
 "nbformat_minor": 5
}
