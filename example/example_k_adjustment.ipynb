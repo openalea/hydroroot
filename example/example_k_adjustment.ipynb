{
 "cells": [
  {
   "cell_type": "markdown",
   "id": "9eb831f3-66b4-4601-9e84-fe801e7aa9fc",
   "metadata": {},
   "source": [
    "Example"
   ]
  },
  {
   "cell_type": "code",
   "execution_count": 1,
   "id": "ecb2c79c-7662-431b-96ea-270d7bafe310",
   "metadata": {},
   "outputs": [
    {
     "name": "stdout",
     "output_type": "stream",
     "text": [
      "Python 3.8.12 | packaged by conda-forge | (default, Jan 30 2022, 23:42:07) \n",
      "[GCC 9.4.0] on linux\n"
     ]
    }
   ],
   "source": [
    "import sys; print('Python %s on %s' % (sys.version, sys.platform))\n",
    "sys.path.extend(['../src', '../example'])"
   ]
  },
  {
   "cell_type": "code",
   "execution_count": 19,
   "id": "b6cc47ef-4c99-4005-b041-b44dcb72312d",
   "metadata": {},
   "outputs": [],
   "source": [
    "import pandas as pd\n",
    "from hydroroot import radius\n",
    "from hydroroot.main import hydroroot_flow\n",
    "from hydroroot.init_parameter import Parameters\n",
    "from hydroroot.generator.measured_root import mtg_from_aqua_data\n",
    "from shared_functions import plot, read_archi_data, root_builder"
   ]
  },
  {
   "cell_type": "code",
   "execution_count": 20,
   "id": "e8f87e3b-3e41-476a-9aa2-c2ad676606cf",
   "metadata": {},
   "outputs": [],
   "source": [
    "parameter = Parameters()\n",
    "parameter.read_file('parameters.yml')"
   ]
  },
  {
   "cell_type": "code",
   "execution_count": 21,
   "id": "62a1f2a1-0aa6-492c-8b6f-5c20a7ab3f28",
   "metadata": {},
   "outputs": [],
   "source": [
    "fname = parameter.archi['input_dir'] + parameter.archi['input_file'][0]\n",
    "df = read_archi_data(fname) # replace 3 lines in example_parameter_class.ipynb"
   ]
  },
  {
   "cell_type": "code",
   "execution_count": 22,
   "id": "b63cd987-1689-4fff-9c28-559176546f1b",
   "metadata": {},
   "outputs": [],
   "source": [
    "# building the MTG from the dataframe df\n",
    "# the output is the mtg, the primary root length, the total length and surface of the root, and the seed for the case of generated root here unsed\n",
    "g, primary_length, total_length, surface, seed = root_builder(df = df, segment_length = parameter.archi['segment_length'],\n",
    "            order_decrease_factor = parameter.archi['order_decrease_factor'], ref_radius = parameter.archi['ref_radius'])"
   ]
  },
  {
   "cell_type": "code",
   "execution_count": 23,
   "id": "36a30d5b-0a1e-4895-82da-7387a0462d7c",
   "metadata": {},
   "outputs": [],
   "source": [
    "axial_data = parameter.hydro['axial_conductance_data']\n",
    "k0 = parameter.hydro['k0']\n",
    "radial_data = ([0.0,0.2], [k0,k0])\n",
    "g, Keq, Jv = hydroroot_flow(g, segment_length = parameter.archi['segment_length'], psi_e = parameter.exp['psi_e'], \n",
    "                            psi_base = parameter.exp['psi_base'], axial_conductivity_data = axial_data, \n",
    "                            radial_conductivity_data = radial_data)"
   ]
  },
  {
   "cell_type": "code",
   "execution_count": 27,
   "id": "801eb8ae-babe-4a44-9891-029f704e61a2",
   "metadata": {},
   "outputs": [],
   "source": [
    "k0_old = k0\n",
    "F_old = (Jv - parameter.exp['Jv'])**2.0 # the objective function\n",
    "k0 *= 0.9 # to initiate a simulation in the loop to compare with the previous one\n",
    "eps = 1e-9 # the accuracy wanted\n",
    "F = 1. # to launch the loop\n",
    "# Newton-Raphson loop to get k0\n",
    "while (F > eps):\n",
    "    radial_data = ([0.0,0.2], [k0,k0])\n",
    "    g, Keq, Jv = hydroroot_flow(g, segment_length = parameter.archi['segment_length'], psi_e = parameter.exp['psi_e'], \n",
    "                                psi_base = parameter.exp['psi_base'], axial_conductivity_data = axial_data, \n",
    "                                radial_conductivity_data = radial_data)\n",
    "\n",
    "    F = (Jv - parameter.exp['Jv']) ** 2.0 # the objective function\n",
    "\n",
    "    if abs(F) > eps:\n",
    "        dfdk0 = (F - F_old) / (k0 - k0_old) # the derivative of F according to k0\n",
    "\n",
    "        k0_old = k0\n",
    "\n",
    "        k0 = k0_old - F / dfdk0 # new estimate\n",
    "        while k0 < 1.0e-3:\n",
    "            k0 = 0.5 * k0_old\n",
    "\n",
    "        F_old = F"
   ]
  },
  {
   "cell_type": "code",
   "execution_count": 25,
   "id": "8cb74613-2f9c-418a-af07-8247f6d5b4a6",
   "metadata": {},
   "outputs": [
    {
     "name": "stdout",
     "output_type": "stream",
     "text": [
      "experimental Jv:  0.00452 simulated Jv:  0.004545766780791878 adjusted k:  33.93466828329859\n"
     ]
    }
   ],
   "source": [
    "print('experimental Jv: ', parameter.exp['Jv'], 'simulated Jv: ', Jv, 'adjusted k: ', k0)"
   ]
  }
 ],
 "metadata": {
  "kernelspec": {
   "display_name": "Python 3 (ipykernel)",
   "language": "python",
   "name": "python3"
  },
  "language_info": {
   "codemirror_mode": {
    "name": "ipython",
    "version": 3
   },
   "file_extension": ".py",
   "mimetype": "text/x-python",
   "name": "python",
   "nbconvert_exporter": "python",
   "pygments_lexer": "ipython3",
   "version": "3.9.13"
  }
 },
 "nbformat": 4,
 "nbformat_minor": 5
}
