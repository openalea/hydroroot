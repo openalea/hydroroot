{
 "cells": [
  {
   "cell_type": "code",
   "execution_count": null,
   "id": "e26e0ed6-6d88-49a3-950f-3099e0155fb2",
   "metadata": {},
   "outputs": [],
   "source": []
  },
  {
   "cell_type": "code",
   "execution_count": 1,
   "id": "6dee3853-1085-4917-b4f2-2ab269671607",
   "metadata": {},
   "outputs": [
    {
     "name": "stdout",
     "output_type": "stream",
     "text": [
      "Python 3.9.19 | packaged by conda-forge | (main, Mar 20 2024, 12:50:21) \n",
      "[GCC 12.3.0] on linux\n"
     ]
    }
   ],
   "source": [
    "import sys; print('Python %s on %s' % (sys.version, sys.platform))\n",
    "sys.path.extend(['../src'])"
   ]
  },
  {
   "cell_type": "code",
   "execution_count": 2,
   "id": "60bae6a9-56d0-49d9-aa69-c066b0742d19",
   "metadata": {},
   "outputs": [],
   "source": [
    "import pandas \n",
    "from hydroroot.main import root_builder, hydroroot_flow\n",
    "from hydroroot.display import plot"
   ]
  },
  {
   "cell_type": "markdown",
   "id": "8a6fe0a8-b862-4e39-983f-28271db0c8ca",
   "metadata": {},
   "source": [
    "The Hydroroot generator of architecture is described in (`Boursiac et al., 2022 <https://doi.org/10.1093/plphys/kiac281>`_). It uses length distribution law for laterals, specific to a given species, to generate realistic architecture. Here we use the length laws determinated for Col0 arabidopsis."
   ]
  },
  {
   "cell_type": "code",
   "execution_count": 3,
   "id": "acaa9e31-9813-4455-8b84-96c09976ba77",
   "metadata": {},
   "outputs": [],
   "source": [
    "length_data = [] # length law used to generate arabidopsis realistic architecture\n",
    "for filename in ['data/length_LR_order1_160615.csv','data/length_LR_order2_160909.csv']:\n",
    "    df = pandas.read_csv(filename, sep = ';', header = 1, names = ('LR_length_mm', 'relative_distance_to_tip'))\n",
    "    df.sort_values(by = 'relative_distance_to_tip', inplace = True)\n",
    "    length_data.append(df)"
   ]
  },
  {
   "cell_type": "markdown",
   "id": "6741b005-035e-46fe-8502-593b3763eb7f",
   "metadata": {},
   "source": [
    "We generate the MTG with some specific parameters:\n",
    "+ primary_length: length of the primary root\n",
    "+ delta: the average distance between lateral branching\n",
    "+ branching_variability: the variability of the branching distance around delta\n",
    "+ nude_length: distance from the tip without any laterals\n",
    "+ order_max: the maximum order of laterals"
   ]
  },
  {
   "cell_type": "code",
   "execution_count": 4,
   "id": "2141a9a8-76fa-45aa-a177-1a361eef4827",
   "metadata": {},
   "outputs": [],
   "source": [
    "g, primary_length, total_length, surface, seed = root_builder(primary_length = 0.13, delta = 2.0e-3, nude_length = 2.0e-2, segment_length = 1.0e-4,\n",
    "                                                  length_data = length_data, branching_variability = 0.25, order_max = 4.0, order_decrease_factor = 0.7,\n",
    "                                                  ref_radius = 7.0e-5)"
   ]
  },
  {
   "cell_type": "markdown",
   "id": "4002d295-6dff-4ee1-a590-d8271e4ea6d0",
   "metadata": {},
   "source": [
    "Some conductance data versus distance to tip"
   ]
  },
  {
   "cell_type": "code",
   "execution_count": 5,
   "id": "d5be93d4-38d5-4dc6-a85c-a5c884493f6f",
   "metadata": {},
   "outputs": [],
   "source": [
    "k_radial_data=([0, 0.2],[30.0,30.0])\n",
    "K_axial_data=([0, 0.2],[3.0e-7,4.0e-4])"
   ]
  },
  {
   "cell_type": "markdown",
   "id": "daa6cf11-2986-4d5c-8684-39c8b7771197",
   "metadata": {},
   "source": [
    "Flux and equivalent conductance calculation, for a root in an external hydroponic medium at 0.4 MPa, its base at 0.1 MPa, and with the conductances set above."
   ]
  },
  {
   "cell_type": "code",
   "execution_count": 6,
   "id": "e6de7a98-fa43-4006-a957-783ff9a32d4d",
   "metadata": {},
   "outputs": [],
   "source": [
    "g, keq, jv = hydroroot_flow(g, psi_e = 0.4, psi_base = 0.1, axial_conductivity_data = K_axial_data, radial_conductivity_data = k_radial_data)"
   ]
  },
  {
   "cell_type": "code",
   "execution_count": 7,
   "id": "831c5617-0a70-496b-b130-6a35ca651869",
   "metadata": {},
   "outputs": [
    {
     "name": "stdout",
     "output_type": "stream",
     "text": [
      "0.0066787763367553345 0.0020036329010266005\n"
     ]
    }
   ],
   "source": [
    "print(keq,jv)"
   ]
  },
  {
   "cell_type": "markdown",
   "id": "5c1ea725-ff0b-4b6c-ac48-b8dccfcf90d2",
   "metadata": {},
   "source": [
    "Display the local water uptake heatmap in 3D"
   ]
  },
  {
   "cell_type": "code",
   "execution_count": 8,
   "id": "f154d253-5429-4479-a32e-5fb70325f49b",
   "metadata": {},
   "outputs": [
    {
     "name": "stderr",
     "output_type": "stream",
     "text": [
      "Warning: Ignoring XDG_SESSION_TYPE=wayland on Gnome. Use QT_QPA_PLATFORM=wayland to run on Wayland anyway.\n",
      "QApplication: invalid style override 'kvantum' passed, ignoring it.\n",
      "\tAvailable styles: Windows, Fusion\n"
     ]
    }
   ],
   "source": [
    "%gui qt\n",
    "plot(g, prop_cmap='j') # j is the radial flux in ul/s"
   ]
  },
  {
   "cell_type": "code",
   "execution_count": null,
   "id": "13ad9257-1116-4b41-b222-ab7df7be83bc",
   "metadata": {},
   "outputs": [],
   "source": []
  }
 ],
 "metadata": {
  "kernelspec": {
   "display_name": "Python 3 (ipykernel)",
   "language": "python",
   "name": "python3"
  },
  "language_info": {
   "codemirror_mode": {
    "name": "ipython",
    "version": 3
   },
   "file_extension": ".py",
   "mimetype": "text/x-python",
   "name": "python",
   "nbconvert_exporter": "python",
   "pygments_lexer": "ipython3",
   "version": "3.9.19"
  }
 },
 "nbformat": 4,
 "nbformat_minor": 5
}
