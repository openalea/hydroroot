{
 "cells": [
  {
   "cell_type": "code",
   "execution_count": 2,
   "id": "6dee3853-1085-4917-b4f2-2ab269671607",
   "metadata": {},
   "outputs": [
    {
     "name": "stdout",
     "output_type": "stream",
     "text": [
      "Python 3.8.12 | packaged by conda-forge | (default, Jan 30 2022, 23:42:07) \n",
      "[GCC 9.4.0] on linux\n"
     ]
    }
   ],
   "source": [
    "import sys; print('Python %s on %s' % (sys.version, sys.platform))\n",
    "sys.path.extend(['../src', '../test', '../example'])"
   ]
  },
  {
   "cell_type": "code",
   "execution_count": 3,
   "id": "60bae6a9-56d0-49d9-aa69-c066b0742d19",
   "metadata": {},
   "outputs": [],
   "source": [
    "import pandas as pd\n",
    "from openalea.plantgl.all import Viewer\n",
    "from hydroroot.display import plot as mtg_scene\n",
    "from hydroroot import radius\n",
    "from hydroroot.main import hydroroot_flow\n",
    "from hydroroot.generator.measured_root import mtg_from_aqua_data\n",
    "from shared_functions import plot"
   ]
  },
  {
   "cell_type": "code",
   "execution_count": 4,
   "id": "2141a9a8-76fa-45aa-a177-1a361eef4827",
   "metadata": {},
   "outputs": [],
   "source": [
    "df = pd.read_csv('data/plant-1.txt', sep = '\\t', dtype = {'order': str})\n",
    "df['db'] = df['distance_from_base_(mm)'] * 1.e-3\n",
    "df['lr'] = df['lateral_root_length_(mm)'] * 1.e-3"
   ]
  },
  {
   "cell_type": "markdown",
   "id": "40fdc748-cc1d-41b2-b61d-95ae970dac2f",
   "metadata": {},
   "source": [
    "Building the MTG from the file, and some properties needed for the calculation"
   ]
  },
  {
   "cell_type": "code",
   "execution_count": 5,
   "id": "40f670a5-1382-45d8-b519-ddf0b6225831",
   "metadata": {},
   "outputs": [],
   "source": [
    "g = mtg_from_aqua_data(df, segment_length = 1.0e-4) # creating the MTG from the file with a vertex length of 0.1 mm\n",
    "g = radius.ordered_radius(g, 7.0e-5, 0.7) # set the radius of the primary root to 70 um, and to 70*0.7^d to lateral of order d\n",
    "g = radius.compute_relative_position(g) # calculation of properties used in the model see compute_relative_position doc"
   ]
  },
  {
   "cell_type": "markdown",
   "id": "4002d295-6dff-4ee1-a590-d8271e4ea6d0",
   "metadata": {},
   "source": [
    "Some conductance data versus distance to tip"
   ]
  },
  {
   "cell_type": "code",
   "execution_count": 6,
   "id": "d5be93d4-38d5-4dc6-a85c-a5c884493f6f",
   "metadata": {},
   "outputs": [],
   "source": [
    "k_radial_data=([0, 0.2],[300.0,300.0])\n",
    "K_axial_data=([0, 0.2],[3.0e-5,4.0e-4])"
   ]
  },
  {
   "cell_type": "markdown",
   "id": "daa6cf11-2986-4d5c-8684-39c8b7771197",
   "metadata": {},
   "source": [
    "Flux and equivalent conductance calculation, for a root in an external hydroponic medium at 0.4 MPa, its base at 0.1 MPa, and with the conductances set above."
   ]
  },
  {
   "cell_type": "code",
   "execution_count": 7,
   "id": "e6de7a98-fa43-4006-a957-783ff9a32d4d",
   "metadata": {},
   "outputs": [],
   "source": [
    "g, keq, jv = hydroroot_flow(g, psi_e = 0.4, psi_base = 0.1, \n",
    "                            axial_conductivity_data = K_axial_data, radial_conductivity_data = k_radial_data)"
   ]
  },
  {
   "cell_type": "code",
   "execution_count": 8,
   "id": "831c5617-0a70-496b-b130-6a35ca651869",
   "metadata": {},
   "outputs": [
    {
     "name": "stdout",
     "output_type": "stream",
     "text": [
      "0.0335903319734048 0.010077099592021441\n"
     ]
    }
   ],
   "source": [
    "print(keq,jv)"
   ]
  },
  {
   "cell_type": "markdown",
   "id": "5c1ea725-ff0b-4b6c-ac48-b8dccfcf90d2",
   "metadata": {},
   "source": [
    "Display the local water uptake heatmap in 3D"
   ]
  },
  {
   "cell_type": "code",
   "execution_count": 9,
   "id": "f154d253-5429-4479-a32e-5fb70325f49b",
   "metadata": {},
   "outputs": [],
   "source": [
    "%gui qt\n",
    "Viewer.display(mtg_scene(g, prop_cmap='j')) # j is the radial flux in ul/s"
   ]
  },
  {
   "cell_type": "markdown",
   "id": "1c4ac603-3e9f-4ea2-85e6-97f1f090aae1",
   "metadata": {},
   "source": [
    "You may change the property to display to the hydrostatic pressure inside the xylem vessels for instance"
   ]
  },
  {
   "cell_type": "code",
   "execution_count": 10,
   "id": "6032f7f6-8501-4454-93db-d04f4b315ea6",
   "metadata": {},
   "outputs": [],
   "source": [
    "Viewer.display(mtg_scene(g, prop_cmap='psi_in'))"
   ]
  },
  {
   "cell_type": "code",
   "execution_count": null,
   "id": "676f3b63-8b33-424c-b51a-b49000db4681",
   "metadata": {},
   "outputs": [],
   "source": []
  }
 ],
 "metadata": {
  "kernelspec": {
   "display_name": "Python 3 (ipykernel)",
   "language": "python",
   "name": "python3"
  },
  "language_info": {
   "codemirror_mode": {
    "name": "ipython",
    "version": 3
   },
   "file_extension": ".py",
   "mimetype": "text/x-python",
   "name": "python",
   "nbconvert_exporter": "python",
   "pygments_lexer": "ipython3",
   "version": "3.8.12"
  }
 },
 "nbformat": 4,
 "nbformat_minor": 5
}
