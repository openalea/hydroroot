{
 "cells": [
  {
   "cell_type": "markdown",
   "id": "9d4c4a3e-aaa8-4433-9f5b-a86fb7460e1a",
   "metadata": {},
   "source": [
    "This the notebook version of the example in read the doc.\n",
    "The following lines present a small example of simulation the sap flux from an Arabidopsis de-topped root plunged in a hydroponic solution at a hydrostatic pressure of 0.4 Mpa when its  base is at the atmospheric pressure."
   ]
  },
  {
   "cell_type": "code",
   "execution_count": 13,
   "id": "6dee3853-1085-4917-b4f2-2ab269671607",
   "metadata": {},
   "outputs": [
    {
     "name": "stdout",
     "output_type": "stream",
     "text": [
      "Python 3.8.12 | packaged by conda-forge | (default, Jan 30 2022, 23:42:07) \n",
      "[GCC 9.4.0] on linux\n"
     ]
    }
   ],
   "source": [
    "import sys; print('Python %s on %s' % (sys.version, sys.platform))\n",
    "sys.path.extend(['../src'])"
   ]
  },
  {
   "cell_type": "code",
   "execution_count": 14,
   "id": "60bae6a9-56d0-49d9-aa69-c066b0742d19",
   "metadata": {},
   "outputs": [],
   "source": [
    "from hydroroot.display import plot\n",
    "from hydroroot.read_file import read_archi_data\n",
    "from hydroroot.main import hydroroot_flow, root_builder"
   ]
  },
  {
   "cell_type": "markdown",
   "id": "d64f78d5-1e28-41e4-96e0-f84f75f68692",
   "metadata": {},
   "source": [
    "Read the architecture file"
   ]
  },
  {
   "cell_type": "code",
   "execution_count": 15,
   "id": "2141a9a8-76fa-45aa-a177-1a361eef4827",
   "metadata": {},
   "outputs": [],
   "source": [
    "df = read_archi_data('data/plant-01.txt')"
   ]
  },
  {
   "cell_type": "markdown",
   "id": "40fdc748-cc1d-41b2-b61d-95ae970dac2f",
   "metadata": {},
   "source": [
    "Building the MTG from the file, and some properties needed for the calculation"
   ]
  },
  {
   "cell_type": "code",
   "execution_count": 4,
   "id": "40f670a5-1382-45d8-b519-ddf0b6225831",
   "metadata": {},
   "outputs": [],
   "source": [
    "g, primary_length, total_length, surface, seed = root_builder(df=df, segment_length=1.0e-4)"
   ]
  },
  {
   "cell_type": "markdown",
   "id": "4002d295-6dff-4ee1-a590-d8271e4ea6d0",
   "metadata": {},
   "source": [
    "Some conductance data versus distance to tip"
   ]
  },
  {
   "cell_type": "code",
   "execution_count": 5,
   "id": "d5be93d4-38d5-4dc6-a85c-a5c884493f6f",
   "metadata": {},
   "outputs": [],
   "source": [
    "k_radial_data=([0, 0.2],[30.0,30.0])\n",
    "K_axial_data=([0, 0.2],[3.0e-7,4.0e-4])"
   ]
  },
  {
   "cell_type": "markdown",
   "id": "daa6cf11-2986-4d5c-8684-39c8b7771197",
   "metadata": {},
   "source": [
    "Flux and equivalent conductance calculation, for a root in an external hydroponic medium at 0.4 MPa, its base at 0.1 MPa, and with the conductances set above."
   ]
  },
  {
   "cell_type": "code",
   "execution_count": 6,
   "id": "e6de7a98-fa43-4006-a957-783ff9a32d4d",
   "metadata": {},
   "outputs": [],
   "source": [
    "g, keq, jv = hydroroot_flow(g, psi_e = 0.4, psi_base = 0.1, axial_conductivity_data = K_axial_data, radial_conductivity_data = k_radial_data)"
   ]
  },
  {
   "cell_type": "code",
   "execution_count": 7,
   "id": "831c5617-0a70-496b-b130-6a35ca651869",
   "metadata": {},
   "outputs": [
    {
     "name": "stdout",
     "output_type": "stream",
     "text": [
      "equivalent root conductance (microL/s/MPa):  0.009596381061843703 sap flux (microL/s):  0.002878914318553111\n"
     ]
    }
   ],
   "source": [
    "print('equivalent root conductance (microL/s/MPa): ',keq, 'sap flux (microL/s): ', jv)"
   ]
  },
  {
   "cell_type": "markdown",
   "id": "5c1ea725-ff0b-4b6c-ac48-b8dccfcf90d2",
   "metadata": {},
   "source": [
    "Display the local water uptake heatmap in 3D"
   ]
  },
  {
   "cell_type": "code",
   "execution_count": 9,
   "id": "f154d253-5429-4479-a32e-5fb70325f49b",
   "metadata": {},
   "outputs": [],
   "source": [
    "%gui qt\n",
    "plot(g, prop_cmap='j') # j is the radial flux in ul/s"
   ]
  },
  {
   "cell_type": "markdown",
   "id": "1c4ac603-3e9f-4ea2-85e6-97f1f090aae1",
   "metadata": {},
   "source": [
    "You may change the property to display to the hydrostatic pressure inside the xylem vessels for instance"
   ]
  },
  {
   "cell_type": "code",
   "execution_count": 10,
   "id": "6032f7f6-8501-4454-93db-d04f4b315ea6",
   "metadata": {},
   "outputs": [],
   "source": [
    "plot(g, prop_cmap='psi_in')"
   ]
  },
  {
   "cell_type": "markdown",
   "id": "542d5746-4238-4f27-a6ce-3adff223d48c",
   "metadata": {},
   "source": [
    "You may change the radial conductivity and see the impact on the water uptake"
   ]
  },
  {
   "cell_type": "code",
   "execution_count": 11,
   "id": "01d2d8c4-0d79-4d9b-85fb-ed1d546591f4",
   "metadata": {},
   "outputs": [
    {
     "name": "stdout",
     "output_type": "stream",
     "text": [
      "sap flux (microL/s):  0.010609107156851389\n"
     ]
    }
   ],
   "source": [
    "k_radial_data=([0, 0.2],[300.0,300.0])\n",
    "g, keq, jv = hydroroot_flow(g, psi_e = 0.4, psi_base = 0.1, axial_conductivity_data = K_axial_data, radial_conductivity_data = k_radial_data)\n",
    "print('sap flux (microL/s): ', jv)\n",
    "plot(g, prop_cmap='j')"
   ]
  },
  {
   "cell_type": "markdown",
   "id": "0f42423f-8890-4f04-bd02-f87a678e8012",
   "metadata": {},
   "source": [
    "Or the axial conductance"
   ]
  },
  {
   "cell_type": "code",
   "execution_count": 12,
   "id": "7910bec4-0912-4e23-8e1c-582ce808c445",
   "metadata": {},
   "outputs": [
    {
     "name": "stdout",
     "output_type": "stream",
     "text": [
      "sap flux (microL/s):  0.0019166890917623359\n"
     ]
    }
   ],
   "source": [
    "k_radial_data=([0, 0.2],[30.0,30.0])\n",
    "K_axial_data=([0, 0.2],[3.0e-7,1.0e-4])\n",
    "g, keq, jv = hydroroot_flow(g, psi_e = 0.4, psi_base = 0.1, axial_conductivity_data = K_axial_data, radial_conductivity_data = k_radial_data)\n",
    "print('sap flux (microL/s): ', jv)\n",
    "plot(g, prop_cmap='j')"
   ]
  },
  {
   "cell_type": "code",
   "execution_count": null,
   "id": "a62bfe3a-75eb-4e15-97e3-dff11afdc8dd",
   "metadata": {},
   "outputs": [],
   "source": []
  }
 ],
 "metadata": {
  "kernelspec": {
   "display_name": "Python 3 (ipykernel)",
   "language": "python",
   "name": "python3"
  },
  "language_info": {
   "codemirror_mode": {
    "name": "ipython",
    "version": 3
   },
   "file_extension": ".py",
   "mimetype": "text/x-python",
   "name": "python",
   "nbconvert_exporter": "python",
   "pygments_lexer": "ipython3",
   "version": "3.8.12"
  }
 },
 "nbformat": 4,
 "nbformat_minor": 5
}
