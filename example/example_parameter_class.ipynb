{
 "cells": [
  {
   "cell_type": "markdown",
   "id": "9eb831f3-66b4-4601-9e84-fe801e7aa9fc",
   "metadata": {},
   "source": [
    "# Run simple calculation using the Parameters class\n",
    "example from the documentation"
   ]
  },
  {
   "cell_type": "code",
   "execution_count": 1,
   "id": "ecb2c79c-7662-431b-96ea-270d7bafe310",
   "metadata": {},
   "outputs": [
    {
     "name": "stdout",
     "output_type": "stream",
     "text": [
      "Python 3.9.19 | packaged by conda-forge | (main, Mar 20 2024, 12:50:21) \n",
      "[GCC 12.3.0] on linux\n"
     ]
    }
   ],
   "source": [
    "import sys; print('Python %s on %s' % (sys.version, sys.platform))\n",
    "sys.path.extend(['../src'])"
   ]
  },
  {
   "cell_type": "code",
   "execution_count": 2,
   "id": "b6cc47ef-4c99-4005-b041-b44dcb72312d",
   "metadata": {},
   "outputs": [
    {
     "name": "stderr",
     "output_type": "stream",
     "text": [
      "Warning: Ignoring XDG_SESSION_TYPE=wayland on Gnome. Use QT_QPA_PLATFORM=wayland to run on Wayland anyway.\n",
      "QApplication: invalid style override 'kvantum' passed, ignoring it.\n",
      "\tAvailable styles: Windows, Fusion\n"
     ]
    }
   ],
   "source": [
    "import pandas as pd\n",
    "from hydroroot import radius\n",
    "from hydroroot.main import hydroroot_flow, root_builder\n",
    "from hydroroot.init_parameter import Parameters\n",
    "from hydroroot.generator.measured_root import mtg_from_aqua_data\n",
    "from hydroroot.display import plot\n",
    "from hydroroot.read_file import read_archi_data\n",
    "\n",
    "# for the PlantGL viewer used in hydroroot.display.plot\n",
    "%gui qt "
   ]
  },
  {
   "cell_type": "markdown",
   "id": "6d85c30b-723a-420a-8491-1da6c84f697c",
   "metadata": {},
   "source": [
    "Read the yaml file and set the Parameters variables, assuming that the code is run from the example folder"
   ]
  },
  {
   "cell_type": "code",
   "execution_count": 3,
   "id": "e8f87e3b-3e41-476a-9aa2-c2ad676606cf",
   "metadata": {},
   "outputs": [],
   "source": [
    "parameter = Parameters()\n",
    "parameter.read_file('parameters_palnt_01.yml')"
   ]
  },
  {
   "cell_type": "markdown",
   "id": "11548f4b-dd19-43b3-b4e8-5ceff22b2684",
   "metadata": {},
   "source": [
    "Read the architecture file and build the MTG"
   ]
  },
  {
   "cell_type": "code",
   "execution_count": 4,
   "id": "62a1f2a1-0aa6-492c-8b6f-5c20a7ab3f28",
   "metadata": {},
   "outputs": [],
   "source": [
    "fname = parameter.archi['input_dir'] + parameter.archi['input_file'][0]\n",
    "df = read_archi_data(fname)\n",
    "g, primary_length, total_length, surface, seed = root_builder( primary_length = parameter.archi['primary_length'],\n",
    "                                                                delta = parameter.archi['branching_delay'],\n",
    "                                                                nude_length = parameter.archi['nude_length'], \n",
    "                                                                df = df,\n",
    "                                                                segment_length = parameter.archi['segment_length'],\n",
    "                                                                length_data = parameter.archi['length_data'],\n",
    "                                                                order_max = parameter.archi['order_max'],\n",
    "                                                                order_decrease_factor = parameter.archi['order_decrease_factor'],\n",
    "                                                                ref_radius = parameter.archi['ref_radius'])"
   ]
  },
  {
   "cell_type": "markdown",
   "id": "bcff9227-9047-415a-958f-6aaae3774461",
   "metadata": {},
   "source": [
    "Calculation of the equivalent conductance and the sap flux"
   ]
  },
  {
   "cell_type": "code",
   "execution_count": 5,
   "id": "36a30d5b-0a1e-4895-82da-7387a0462d7c",
   "metadata": {},
   "outputs": [],
   "source": [
    "g, Keq, Jv = hydroroot_flow(g, segment_length = parameter.archi['segment_length'],\n",
    "                            psi_e = parameter.exp['psi_e'],\n",
    "                            psi_base = parameter.exp['psi_base'],\n",
    "                            axial_conductivity_data = parameter.hydro['axial_conductance_data'],\n",
    "                            radial_conductivity_data = parameter.hydro['k0'])"
   ]
  },
  {
   "cell_type": "code",
   "execution_count": 6,
   "id": "8cb74613-2f9c-418a-af07-8247f6d5b4a6",
   "metadata": {},
   "outputs": [
    {
     "name": "stdout",
     "output_type": "stream",
     "text": [
      "\n",
      "primary length (m): 0.10300000000000001\n",
      "surface (m2): 0.0004625701757655344\n",
      "total length (m): 1.6260000000000001\n",
      "flux (microL/s): 0.0028789143185531108\n",
      "\n"
     ]
    }
   ],
   "source": [
    "result=f\"\"\"\n",
    "primary length (m): {primary_length}\n",
    "surface (m2): {surface}\n",
    "total length (m): {total_length}\n",
    "flux (microL/s): {Jv}\n",
    "\"\"\"\n",
    "print(result)"
   ]
  },
  {
   "cell_type": "code",
   "execution_count": 7,
   "id": "7fc6e80b-5927-429a-ac7b-a2c90ffa30d5",
   "metadata": {},
   "outputs": [],
   "source": [
    "plot(g, prop_cmap='j') # j is the radial flux in ul/s"
   ]
  }
 ],
 "metadata": {
  "kernelspec": {
   "display_name": "Python 3 (ipykernel)",
   "language": "python",
   "name": "python3"
  },
  "language_info": {
   "codemirror_mode": {
    "name": "ipython",
    "version": 3
   },
   "file_extension": ".py",
   "mimetype": "text/x-python",
   "name": "python",
   "nbconvert_exporter": "python",
   "pygments_lexer": "ipython3",
   "version": "3.9.19"
  }
 },
 "nbformat": 4,
 "nbformat_minor": 5
}
