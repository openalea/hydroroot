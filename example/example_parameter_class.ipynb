{
 "cells": [
  {
   "cell_type": "markdown",
   "id": "9eb831f3-66b4-4601-9e84-fe801e7aa9fc",
   "metadata": {},
   "source": [
    "Example"
   ]
  },
  {
   "cell_type": "code",
   "execution_count": 2,
   "id": "ecb2c79c-7662-431b-96ea-270d7bafe310",
   "metadata": {},
   "outputs": [
    {
     "name": "stdout",
     "output_type": "stream",
     "text": [
      "Python 3.8.12 | packaged by conda-forge | (default, Jan 30 2022, 23:42:07) \n",
      "[GCC 9.4.0] on linux\n"
     ]
    }
   ],
   "source": [
    "import sys; print('Python %s on %s' % (sys.version, sys.platform))\n",
    "sys.path.extend(['../src', '../example'])"
   ]
  },
  {
   "cell_type": "code",
   "execution_count": 3,
   "id": "b6cc47ef-4c99-4005-b041-b44dcb72312d",
   "metadata": {},
   "outputs": [],
   "source": [
    "import pandas as pd\n",
    "from hydroroot import radius\n",
    "from hydroroot.main import hydroroot_flow\n",
    "from hydroroot.init_parameter import Parameters\n",
    "from hydroroot.generator.measured_root import mtg_from_aqua_data\n",
    "from shared_functions import plot"
   ]
  },
  {
   "cell_type": "code",
   "execution_count": 4,
   "id": "e8f87e3b-3e41-476a-9aa2-c2ad676606cf",
   "metadata": {},
   "outputs": [],
   "source": [
    "parameter = Parameters()\n",
    "parameter.read_file('parameters.yml')"
   ]
  },
  {
   "cell_type": "code",
   "execution_count": 5,
   "id": "62a1f2a1-0aa6-492c-8b6f-5c20a7ab3f28",
   "metadata": {},
   "outputs": [],
   "source": [
    "fname = parameter.archi['input_dir'] + parameter.archi['input_file'][0]\n",
    "df = pd.read_csv(fname, sep = '\\t', dtype = {'order': str})\n",
    "df['db'] = df['distance_from_base_(mm)'] * 1.e-3\n",
    "df['lr'] = df['lateral_root_length_(mm)'] * 1.e-3"
   ]
  },
  {
   "cell_type": "code",
   "execution_count": 6,
   "id": "b63cd987-1689-4fff-9c28-559176546f1b",
   "metadata": {},
   "outputs": [],
   "source": [
    "g = mtg_from_aqua_data(df, segment_length = parameter.archi['segment_length']) # creating the MTG from the file with a node length of 0.1 mm"
   ]
  },
  {
   "cell_type": "code",
   "execution_count": 11,
   "id": "36a30d5b-0a1e-4895-82da-7387a0462d7c",
   "metadata": {},
   "outputs": [],
   "source": [
    "# compute radius property on MTG\n",
    "g = radius.ordered_radius(g, parameter.archi['ref_radius'], parameter.archi['order_decrease_factor'])\n",
    "\n",
    "# compute length property and parametrisation\n",
    "g = radius.compute_relative_position(g)\n",
    "\n",
    "# radial conductivity is given in the parameters.yml as a uniform value to use hydroroot_flow we have to write \n",
    "# as 2 lists, one for the abscissa and one for the values\n",
    "k = parameter.hydro['k0']\n",
    "radial_conductivity_data = ([0.0, 0.2],[k,k])\n",
    "g, keq, jv = hydroroot_flow(g, segment_length = parameter.archi['segment_length'], psi_e = parameter.exp['psi_e'],\n",
    "                            psi_base = parameter.exp['psi_base'], axial_conductivity_data = parameter.hydro['axial_conductance_data'],\n",
    "                            radial_conductivity_data = radial_conductivity_data)"
   ]
  },
  {
   "cell_type": "code",
   "execution_count": 12,
   "id": "8cb74613-2f9c-418a-af07-8247f6d5b4a6",
   "metadata": {},
   "outputs": [
    {
     "name": "stdout",
     "output_type": "stream",
     "text": [
      "0.038433640014812295 0.011530092004443689\n"
     ]
    }
   ],
   "source": [
    "print(keq,jv)"
   ]
  },
  {
   "cell_type": "code",
   "execution_count": 13,
   "id": "7fc6e80b-5927-429a-ac7b-a2c90ffa30d5",
   "metadata": {},
   "outputs": [],
   "source": [
    "%gui qt\n",
    "plot(g, prop_cmap='j') # j is the radial flux in ul/s"
   ]
  },
  {
   "cell_type": "code",
   "execution_count": null,
   "id": "e68c75e7-6ac7-4a27-a277-5754dff15ad5",
   "metadata": {},
   "outputs": [],
   "source": []
  }
 ],
 "metadata": {
  "kernelspec": {
   "display_name": "Python 3 (ipykernel)",
   "language": "python",
   "name": "python3"
  },
  "language_info": {
   "codemirror_mode": {
    "name": "ipython",
    "version": 3
   },
   "file_extension": ".py",
   "mimetype": "text/x-python",
   "name": "python",
   "nbconvert_exporter": "python",
   "pygments_lexer": "ipython3",
   "version": "3.8.12"
  }
 },
 "nbformat": 4,
 "nbformat_minor": 5
}
