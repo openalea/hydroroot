{
 "cells": [
  {
   "cell_type": "markdown",
   "id": "9eb831f3-66b4-4601-9e84-fe801e7aa9fc",
   "metadata": {},
   "source": [
    "Example"
   ]
  },
  {
   "cell_type": "code",
   "execution_count": 11,
   "id": "ecb2c79c-7662-431b-96ea-270d7bafe310",
   "metadata": {},
   "outputs": [
    {
     "name": "stdout",
     "output_type": "stream",
     "text": [
      "Python 3.8.12 | packaged by conda-forge | (default, Jan 30 2022, 23:42:07) \n",
      "[GCC 9.4.0] on linux\n"
     ]
    }
   ],
   "source": [
    "import sys; print('Python %s on %s' % (sys.version, sys.platform))\n",
    "sys.path.extend(['../src'])"
   ]
  },
  {
   "cell_type": "code",
   "execution_count": 21,
   "id": "b6cc47ef-4c99-4005-b041-b44dcb72312d",
   "metadata": {},
   "outputs": [],
   "source": [
    "import math\n",
    "from hydroroot import flux\n",
    "from hydroroot.main import root_builder\n",
    "from hydroroot.init_parameter import Parameters\n",
    "from hydroroot.display import plot\n",
    "from hydroroot.read_file import read_archi_data\n",
    "from hydroroot.conductance import set_conductances\n",
    "from hydroroot.water_solute_transport import pressure_calculation_no_non_permeating_solutes, init_some_MTG_properties\n",
    "\n",
    "# for the PlantGL viewer used in hydroroot.display.plot\n",
    "%gui qt "
   ]
  },
  {
   "cell_type": "markdown",
   "id": "6d85c30b-723a-420a-8491-1da6c84f697c",
   "metadata": {},
   "source": [
    "Read the yaml file and set the Parameters variables, assuming that the code is run from the example folder"
   ]
  },
  {
   "cell_type": "code",
   "execution_count": 13,
   "id": "e8f87e3b-3e41-476a-9aa2-c2ad676606cf",
   "metadata": {},
   "outputs": [],
   "source": [
    "parameter = Parameters()\n",
    "parameter.read_file('parameters_Ctr-3P2.yml')"
   ]
  },
  {
   "cell_type": "markdown",
   "id": "10580e5e-646b-4424-a70e-5786f980986d",
   "metadata": {},
   "source": [
    "In the code the concentration are in $mol.\\mu L^{-1}$"
   ]
  },
  {
   "cell_type": "code",
   "execution_count": 14,
   "id": "b1f0fad7-3594-457b-bc31-25c61b03b89c",
   "metadata": {},
   "outputs": [],
   "source": [
    "Cse = parameter.solute['Cse'] * 1e-9 # mol/m3 -> mol/microL, external permeating solute concentration\n",
    "Ce = parameter.solute['Ce'] * 1e-9 # mol/m3 -> mol/microL, external non-permeating solute concentration"
   ]
  },
  {
   "cell_type": "markdown",
   "id": "11548f4b-dd19-43b3-b4e8-5ceff22b2684",
   "metadata": {},
   "source": [
    "Read the architecture file and build the MTG"
   ]
  },
  {
   "cell_type": "code",
   "execution_count": 15,
   "id": "62a1f2a1-0aa6-492c-8b6f-5c20a7ab3f28",
   "metadata": {},
   "outputs": [],
   "source": [
    "fname = parameter.archi['input_dir'] + parameter.archi['input_file'][0]\n",
    "df = read_archi_data(fname)\n",
    "g, primary_length, total_length, surface, seed = root_builder( primary_length = parameter.archi['primary_length'],\n",
    "                                                                delta = parameter.archi['branching_delay'],\n",
    "                                                                nude_length = parameter.archi['nude_length'], \n",
    "                                                                df = df,\n",
    "                                                                segment_length = parameter.archi['segment_length'],\n",
    "                                                                length_data = parameter.archi['length_data'],\n",
    "                                                                order_max = parameter.archi['order_max'],\n",
    "                                                                order_decrease_factor = parameter.archi['order_decrease_factor'],\n",
    "                                                                ref_radius = parameter.archi['ref_radius'])"
   ]
  },
  {
   "cell_type": "markdown",
   "id": "bcff9227-9047-415a-958f-6aaae3774461",
   "metadata": {},
   "source": [
    "Set the conductance in the MTG (in previous examples that was done in hydroroot_flow), set some other properties in *init_some_MTG_properties* and perform some initialization. Note that here *parameter.hydro['k0']* is a float."
   ]
  },
  {
   "cell_type": "code",
   "execution_count": 16,
   "id": "36a30d5b-0a1e-4895-82da-7387a0462d7c",
   "metadata": {},
   "outputs": [],
   "source": [
    "g = set_conductances(g, axial_pr = parameter.hydro['axial_conductance_data'], k0_pr = parameter.hydro['k0']) \n",
    "g = flux.flux(g, psi_e = parameter.exp['psi_e'], psi_base = parameter.exp['psi_base'])  # initialization\n",
    "g = init_some_MTG_properties(g, tau = parameter.solute['J_s'], Cini = parameter.solute['Cse'])"
   ]
  },
  {
   "cell_type": "markdown",
   "id": "28d53799-afd2-4df8-9178-8b7204706d59",
   "metadata": {},
   "source": [
    "Perform the calculation, this a Newtown-Raphson loop on a matrix system. *pressure_calculation_no_non_permeating_solutes*, as its name indicates, is a solving function where no non-permeating solute is considered inside the root."
   ]
  },
  {
   "cell_type": "code",
   "execution_count": 25,
   "id": "f5c05023-42e7-4aef-b4cf-eee675a24f5e",
   "metadata": {},
   "outputs": [],
   "source": [
    "eps = 1.0e-9 # global: stop criterion for the Newton-Raphson loop in Jv_P_calculation and Jv_cnf_calculation\n",
    "nb_v = g.nb_vertices()\n",
    "Fdx = 1.0\n",
    "Fdx_old = 1.\n",
    "while Fdx > eps:\n",
    "    g, dx, data, row, col = pressure_calculation_no_non_permeating_solutes(g, sigma = parameter.solute['Sigma'], \n",
    "                                                                           tau = parameter.solute['J_s'], \n",
    "                                                                           Ce = Ce,\n",
    "                                                                           Ps = parameter.solute['P_s'], \n",
    "                                                                           Cse = Cse, \n",
    "                                                                           Pe = parameter.exp['psi_e'], \n",
    "                                                                           Pbase = parameter.exp['psi_base'])\n",
    "    Fdx = math.sqrt(sum(dx ** 2.0)) / nb_v\n",
    "    if abs(Fdx - Fdx_old) < eps: break\n",
    "    Fdx_old = Fdx\n",
    "Jv = g.property('J_out')[1]"
   ]
  },
  {
   "cell_type": "code",
   "execution_count": 26,
   "id": "8cb74613-2f9c-418a-af07-8247f6d5b4a6",
   "metadata": {},
   "outputs": [
    {
     "name": "stdout",
     "output_type": "stream",
     "text": [
      "\n",
      "primary length (m): 0.434\n",
      "surface (m2): 0.005643500494241343\n",
      "total length (m): 3.979\n",
      "flux (microL/s): 0.010509822882855104\n",
      "\n"
     ]
    }
   ],
   "source": [
    "result=f\"\"\"\n",
    "primary length (m): {primary_length}\n",
    "surface (m2): {surface}\n",
    "total length (m): {total_length}\n",
    "flux (microL/s): {Jv}\n",
    "\"\"\"\n",
    "print(result)"
   ]
  },
  {
   "cell_type": "markdown",
   "id": "0707c4b6-d135-4e8f-9ac0-7ee15962a0e7",
   "metadata": {},
   "source": [
    "Display the concentration in the architecture"
   ]
  },
  {
   "cell_type": "code",
   "execution_count": 27,
   "id": "7fc6e80b-5927-429a-ac7b-a2c90ffa30d5",
   "metadata": {},
   "outputs": [],
   "source": [
    "plot(g, prop_cmap='C') # C is the radial flux in mol/microL"
   ]
  },
  {
   "cell_type": "code",
   "execution_count": null,
   "id": "e68c75e7-6ac7-4a27-a277-5754dff15ad5",
   "metadata": {},
   "outputs": [],
   "source": []
  }
 ],
 "metadata": {
  "kernelspec": {
   "display_name": "Python 3 (ipykernel)",
   "language": "python",
   "name": "python3"
  },
  "language_info": {
   "codemirror_mode": {
    "name": "ipython",
    "version": 3
   },
   "file_extension": ".py",
   "mimetype": "text/x-python",
   "name": "python",
   "nbconvert_exporter": "python",
   "pygments_lexer": "ipython3",
   "version": "3.9.13"
  }
 },
 "nbformat": 4,
 "nbformat_minor": 5
}
